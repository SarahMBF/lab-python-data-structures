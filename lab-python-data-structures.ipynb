{
 "cells": [
  {
   "cell_type": "markdown",
   "metadata": {
    "tags": []
   },
   "source": [
    "# Lab | Data Structures "
   ]
  },
  {
   "cell_type": "markdown",
   "metadata": {},
   "source": [
    "## Exercise: Managing Customer Orders\n",
    "\n",
    "As part of a business venture, you are starting an online store that sells various products. To ensure smooth operations, you need to develop a program that manages customer orders and inventory.\n",
    "\n",
    "Follow the steps below to complete the exercise:\n",
    "\n",
    "1. Define a list called `products` that contains the following items: \"t-shirt\", \"mug\", \"hat\", \"book\", \"keychain\".\n",
    "\n",
    "2. Create an empty dictionary called `inventory`.\n",
    "\n",
    "3. Ask the user to input the quantity of each product available in the inventory. Use the product names from the `products` list as keys in the `inventory` dictionary and assign the respective quantities as values.\n",
    "\n",
    "4. Create an empty set called `customer_orders`.\n",
    "\n",
    "5. Ask the user to input the name of three products that a customer wants to order (from those in the products list, meaning three products out of \"t-shirt\", \"mug\", \"hat\", \"book\" or \"keychain\". Add each product name to the `customer_orders` set.\n",
    "\n",
    "6. Print the products in the `customer_orders` set.\n",
    "\n",
    "7. Calculate the following order statistics:\n",
    "   - Total Products Ordered: The total number of products in the `customer_orders` set.\n",
    "   - Percentage of Products Ordered: The percentage of products ordered compared to the total available products.\n",
    "   \n",
    "   Store these statistics in a tuple called `order_status`.\n",
    "\n",
    "8. Print the order statistics using the following format:\n",
    "   ```\n",
    "   Order Statistics:\n",
    "   Total Products Ordered: <total_products_ordered>\n",
    "   Percentage of Products Ordered: <percentage_ordered>% \n",
    "   ```\n",
    "\n",
    "9. Update the inventory by subtracting 1 from the quantity of each product. Modify the `inventory` dictionary accordingly.\n",
    "\n",
    "10. Print the updated inventory, displaying the quantity of each product on separate lines.\n",
    "\n",
    "Solve the exercise by implementing the steps using the Python concepts of lists, dictionaries, sets, and basic input/output operations. "
   ]
  },
  {
   "cell_type": "code",
   "execution_count": 19,
   "metadata": {},
   "outputs": [
    {
     "name": "stdin",
     "output_type": "stream",
     "text": [
      "Enter the quantity of each t-shirt:  5\n",
      "Enter the quantity of each mug:  2\n",
      "Enter the quantity of each hat:  3\n",
      "Enter the quantity of each book:  1\n",
      "Enter the quantity of each keychain:  5\n"
     ]
    }
   ],
   "source": [
    "products = [\"t-shirt\", \"mug\", \"hat\", \"book\", \"keychain\"]\n",
    "#list of products\n",
    "#defining a dictionary to store the inventory of each product\n",
    "inventory = {}\n",
    "inventory[\"t-shirt\"] = int(input(\"Enter the quantity of each t-shirt: \"))\n",
    "inventory[\"mug\"] = int(input(\"Enter the quantity of each mug: \"))\n",
    "inventory[\"hat\"] = int(input(\"Enter the quantity of each hat: \"))\n",
    "inventory[\"book\"] = int(input(\"Enter the quantity of each book: \"))\n",
    "inventory[\"keychain\"] = int(input(\"Enter the quantity of each keychain: \"))\n",
    " #input the name of three products that a customer wants to order and Add each product name to the customer_orders set.\n"
   ]
  },
  {
   "cell_type": "code",
   "execution_count": 21,
   "metadata": {},
   "outputs": [
    {
     "name": "stdin",
     "output_type": "stream",
     "text": [
      "Enter the name of the three products:  t-shirt\n",
      "add second product:  book\n",
      "add third product:  mug\n"
     ]
    },
    {
     "name": "stdout",
     "output_type": "stream",
     "text": [
      "The customer ordered:  {'t-shirt', 'book', 'mug'}\n"
     ]
    }
   ],
   "source": [
    "customer_orders = set()\n",
    "#input the name of three products that a customer wants to order and add each product name to the customer_orders set.\n",
    "\n",
    "customer_orders_1 = {input(\"Enter the name of the three products: \")}\n",
    "customer_orders_2 = {input(\"add second product: \")}\n",
    "customer_orders_3 = {input(\"add third product: \")}\n",
    "customer_orders = customer_orders_1.union(customer_orders_2, customer_orders_3)\n",
    "print(\"The customer ordered: \", customer_orders)\n",
    "# I can use the .add function to add the three orders instated .union at the end"
   ]
  },
  {
   "cell_type": "code",
   "execution_count": 25,
   "metadata": {},
   "outputs": [
    {
     "name": "stdout",
     "output_type": "stream",
     "text": [
      "Total Products Ordered:  3\n",
      "Percentage of Products Ordered 60.0%\n"
     ]
    }
   ],
   "source": [
    "total_products_ordered = len(customer_orders)\n",
    "print(\"Total Products Ordered: \", total_products_ordered)\n",
    "#percentage of Products Ordered: The percentage of products ordered compared to the total available products.\n",
    "percentage_ordered = (total_products_ordered / len(products)) * 100\n",
    "print(f\"Percentage of Products Ordered {percentage_ordered}%\")"
   ]
  },
  {
   "cell_type": "code",
   "execution_count": 51,
   "metadata": {},
   "outputs": [
    {
     "name": "stdout",
     "output_type": "stream",
     "text": [
      "{'t-shirt': 4, 'mug': 5, 'hat': 4, 'keychain': 9, 'book': 8}\n"
     ]
    }
   ],
   "source": [
    "inventory[\"t-shirt\"] -=1\n",
    "inventory[\"mug\"] -=1\n",
    "inventory[\"hat\"] -=1\n",
    "inventory[\"book\"] -=1\n",
    "inventory[\"keychain\"] -=1\n",
    "print(inventory)"
   ]
  },
  {
   "cell_type": "code",
   "execution_count": 53,
   "metadata": {},
   "outputs": [
    {
     "name": "stdout",
     "output_type": "stream",
     "text": [
      "Updated inventory:\n",
      "T-shirts:4\n",
      "Mugs:5\n",
      "Hats:4\n",
      "Books:8\n",
      "Keychains:9\n"
     ]
    }
   ],
   "source": [
    "print(\"Updated inventory:\")\n",
    "print(f\"T-shirts:{inventory[\"t-shirt\"]}\")\n",
    "print(f\"Mugs:{inventory[\"mug\"]}\")\n",
    "print(f\"Hats:{inventory[\"hat\"]}\")\n",
    "print(f\"Books:{inventory[\"book\"]}\")\n",
    "print(f\"Keychains:{inventory[\"keychain\"]}\")"
   ]
  },
  {
   "cell_type": "code",
   "execution_count": null,
   "metadata": {},
   "outputs": [],
   "source": []
  }
 ],
 "metadata": {
  "kernelspec": {
   "display_name": "Python [conda env:base] *",
   "language": "python",
   "name": "conda-base-py"
  },
  "language_info": {
   "codemirror_mode": {
    "name": "ipython",
    "version": 3
   },
   "file_extension": ".py",
   "mimetype": "text/x-python",
   "name": "python",
   "nbconvert_exporter": "python",
   "pygments_lexer": "ipython3",
   "version": "3.12.7"
  }
 },
 "nbformat": 4,
 "nbformat_minor": 4
}
