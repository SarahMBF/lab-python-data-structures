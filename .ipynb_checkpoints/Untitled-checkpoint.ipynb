{
 "cells": [
  {
   "cell_type": "code",
   "execution_count": 7,
   "id": "afe4f89f-ccd5-4a95-8be6-1eedd880abbf",
   "metadata": {},
   "outputs": [],
   "source": [
    "students = [\"sarah\", \"jose\",\"engin\", \"moses\"]"
   ]
  },
  {
   "cell_type": "code",
   "execution_count": 9,
   "id": "96891d9e-6be4-46eb-9f2b-f538659bca9e",
   "metadata": {},
   "outputs": [],
   "source": [
    "st_dict = {}"
   ]
  },
  {
   "cell_type": "code",
   "execution_count": 11,
   "id": "74eba41e-2fe1-4fa4-8502-0ca6cf519d37",
   "metadata": {},
   "outputs": [],
   "source": [
    "st_dict[\"sarah\"] = \"egypt\""
   ]
  },
  {
   "cell_type": "code",
   "execution_count": 15,
   "id": "9b31b24a-c6fc-424c-b430-d36b6f73efe1",
   "metadata": {},
   "outputs": [
    {
     "name": "stdin",
     "output_type": "stream",
     "text": [
      "what country is sarah from? gdd\n",
      "what age is sarah ? 5\n",
      "what country is jose from? dg5\n",
      "what age is jose ? df5\n",
      "what country is engin from? 44\n",
      "what age is engin ? df\n",
      "what country is moses from? 45\n",
      "what age is moses ? sd\n"
     ]
    }
   ],
   "source": [
    "for student in students:\n",
    "    country = input(f\"what country is {student} from?\")\n",
    "    age = input(f\"what age is {student} ?\")\n",
    "    st_dict[student] = country, age"
   ]
  },
  {
   "cell_type": "code",
   "execution_count": 21,
   "id": "a5d5035a-4b21-4430-898b-ab162e3620ea",
   "metadata": {},
   "outputs": [
    {
     "name": "stdin",
     "output_type": "stream",
     "text": [
      "what product do you want to add? kkl\n",
      "do you want to add anthoer product? no\n"
     ]
    },
    {
     "name": "stdout",
     "output_type": "stream",
     "text": [
      "['kkl']\n"
     ]
    }
   ],
   "source": [
    "groceries = []\n",
    "answer = \"yes\"\n",
    "\n",
    "while answer == \"yes\" :\n",
    "    prod = input(\"what product do you want to add?\")\n",
    "    groceries.append(prod)\n",
    "    answer = input(\"do you want to add anthoer product?\")\n",
    "print(groceries)"
   ]
  },
  {
   "cell_type": "code",
   "execution_count": 23,
   "id": "6d5e2ad6-ee36-4627-8622-ac01dfff24c0",
   "metadata": {},
   "outputs": [
    {
     "name": "stdin",
     "output_type": "stream",
     "text": [
      "what product do you want to add? klut\n",
      "do you want to add anthoer product? no\n"
     ]
    },
    {
     "name": "stdout",
     "output_type": "stream",
     "text": [
      "['klut']\n"
     ]
    }
   ],
   "source": [
    "groceries = []\n",
    "answer = \"yes\"\n",
    "\n",
    "while True:\n",
    "    prod = input(\"what product do you want to add?\")\n",
    "    groceries.append(prod)\n",
    "    answer = input(\"do you want to add anthoer product?\")\n",
    "    if answer != \"yes\":\n",
    "        break\n",
    "print(groceries)"
   ]
  },
  {
   "cell_type": "code",
   "execution_count": 38,
   "id": "4721b5b2-8fd6-4c8c-a756-892819b1c5ee",
   "metadata": {},
   "outputs": [
    {
     "ename": "IndentationError",
     "evalue": "expected an indented block after 'if' statement on line 10 (1097507966.py, line 12)",
     "output_type": "error",
     "traceback": [
      "\u001b[1;36m  Cell \u001b[1;32mIn[38], line 12\u001b[1;36m\u001b[0m\n\u001b[1;33m    break\u001b[0m\n\u001b[1;37m    ^\u001b[0m\n\u001b[1;31mIndentationError\u001b[0m\u001b[1;31m:\u001b[0m expected an indented block after 'if' statement on line 10\n"
     ]
    }
   ],
   "source": [
    "groceries = []\n",
    "answer = \"yes\"\n",
    "\n",
    "while True:\n",
    "    prod = input(\"what product do you want to add?\")\n",
    "    groceries.append(prod)\n",
    "    answer = input(\"do you want to add anthoer product?\")\n",
    "\n",
    "    if answer in [\"yes\", \"no\"]:\n",
    "        if answer == \"no\":\n",
    "        break\n",
    "    else:\n",
    "        print(\"you didnt provide a valid answer, we conitnue adding product\")\n",
    "        \n",
    "print(groceries)"
   ]
  },
  {
   "cell_type": "code",
   "execution_count": null,
   "id": "eb6ba1b8-b844-40f3-b383-f5a8214dce4b",
   "metadata": {},
   "outputs": [],
   "source": []
  }
 ],
 "metadata": {
  "kernelspec": {
   "display_name": "Python [conda env:base] *",
   "language": "python",
   "name": "conda-base-py"
  },
  "language_info": {
   "codemirror_mode": {
    "name": "ipython",
    "version": 3
   },
   "file_extension": ".py",
   "mimetype": "text/x-python",
   "name": "python",
   "nbconvert_exporter": "python",
   "pygments_lexer": "ipython3",
   "version": "3.12.7"
  }
 },
 "nbformat": 4,
 "nbformat_minor": 5
}
