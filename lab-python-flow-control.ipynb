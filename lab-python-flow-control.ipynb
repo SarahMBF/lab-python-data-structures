{
 "cells": [
  {
   "cell_type": "markdown",
   "id": "d3bfc191-8885-42ee-b0a0-bbab867c6f9f",
   "metadata": {
    "tags": []
   },
   "source": [
    "# Lab | Flow Control"
   ]
  },
  {
   "cell_type": "code",
   "execution_count": null,
   "id": "a238c639",
   "metadata": {},
   "outputs": [],
   "source": []
  },
  {
   "cell_type": "code",
   "execution_count": null,
   "id": "53c31d83",
   "metadata": {},
   "outputs": [],
   "source": [
    "#1.Look at your code from the lab data structures, and improve repeated code with loops.\n",
    "\n",
    "products_list = [\"t-shirt\", \"mug\", \"hat\", \"book\", \"keychain\"]\n",
    "answer = \"yes\"\n",
    "customer_orders = set()\n",
    "\n",
    "#list of products\n",
    "#defining a dictionary to store the inventory of each product\n",
    "while products_list:\n",
    "    #pop the first product from the list\n",
    "    products = products_list.pop(0)\n",
    "    #print the product name\n",
    "    user_input = int(input(\"Enter the quentity of \" + products + \": \"))\n",
    "    print(\"The product name\", products, \"the quentity\", user_input)\n",
    "    if answer == \"yes\":\n",
    "        #add the product name and quentity to the customer_orders set\n",
    "        customer_orders.add((products, user_input))\n",
    "        print(\"The product name\", products, \"the quentity\", user_input)\n",
    "\n",
    "#add the product name and quentity to the customer_orders set\n",
    "\n",
    "    else:\n",
    "        break\n",
    "\n",
    "\n",
    "  \n",
    " #input the name of three products that a customer wants to order and Add each product name to the customer_orders set.\n"
   ]
  },
  {
   "cell_type": "code",
   "execution_count": null,
   "id": "32a6b634",
   "metadata": {},
   "outputs": [],
   "source": [
    "#3. Instead of updating the inventory by subtracting 1 from the quantity of each product, \n",
    "# only do it for  the products that were ordered (those in \"customer_orders\").\n"
   ]
  },
  {
   "cell_type": "code",
   "execution_count": null,
   "id": "ebb74188",
   "metadata": {},
   "outputs": [],
   "source": [
    "customer_orders = set()\n",
    "#input the name of three products that a customer wants to order and add each product name to the customer_orders set.\n",
    "\n",
    "customer_orders_1 = {input(\"Enter the name of the three products: \")}\n",
    "customer_orders_2 = {input(\"add second product: \")}\n",
    "customer_orders_3 = {input(\"add third product: \")}\n",
    "customer_orders = customer_orders_1.union(customer_orders_2, customer_orders_3)\n",
    "print(\"The customer ordered: \", customer_orders)\n",
    "# I can use the .add function to add the three orders instated .union at the end"
   ]
  },
  {
   "cell_type": "markdown",
   "id": "3851fcd1-cf98-4653-9c89-e003b7ec9400",
   "metadata": {},
   "source": [
    "## Exercise: Managing Customer Orders Optimized\n",
    "\n",
    "In the last lab, you were starting an online store that sells various products. To ensure smooth operations, you developed a program that manages customer orders and inventory.\n",
    "\n",
    "You did so without using flow control. Let's go a step further and improve this code.\n",
    "\n",
    "Follow the steps below to complete the exercise:\n",
    "\n",
    "1. Look at your code from the lab data structures, and improve repeated code with loops.\n",
    "\n",
    "2. Instead of asking the user to input the name of three products that a customer wants to order, do the following:\n",
    "    \n",
    "    a. Prompt the user to enter the name of a product that a customer wants to order.\n",
    "    \n",
    "    b. Add the product name to the \"customer_orders\" set.\n",
    "    \n",
    "    c. Ask the user if they want to add another product (yes/no).\n",
    "    \n",
    "    d. Continue the loop until the user does not want to add another product.\n",
    "\n",
    "3. Instead of updating the inventory by subtracting 1 from the quantity of each product, only do it for  the products that were ordered (those in \"customer_orders\")."
   ]
  }
 ],
 "metadata": {
  "kernelspec": {
   "display_name": "Python 3",
   "language": "python",
   "name": "python3"
  },
  "language_info": {
   "codemirror_mode": {
    "name": "ipython",
    "version": 3
   },
   "file_extension": ".py",
   "mimetype": "text/x-python",
   "name": "python",
   "nbconvert_exporter": "python",
   "pygments_lexer": "ipython3",
   "version": "3.11.9"
  }
 },
 "nbformat": 4,
 "nbformat_minor": 5
}
